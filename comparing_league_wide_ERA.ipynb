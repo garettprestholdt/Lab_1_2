{
 "cells": [
  {
   "cell_type": "code",
   "execution_count": 109,
   "id": "979bea20-cc79-4a68-9d5b-43bb4750145a",
   "metadata": {},
   "outputs": [],
   "source": [
    "import polars as pl"
   ]
  },
  {
   "cell_type": "code",
   "execution_count": 110,
   "id": "ce88b044-8e6d-4473-9647-14493dd1201c",
   "metadata": {},
   "outputs": [],
   "source": [
    "from zipfile import ZipFile\n",
    "import glob as glob"
   ]
  },
  {
   "cell_type": "code",
   "execution_count": 111,
   "id": "7909ef7a-9d53-4427-947c-5d00819d2222",
   "metadata": {},
   "outputs": [
    {
     "data": {
      "text/plain": [
       "['data\\\\lahman_1871-2024_csv',\n",
       " 'data\\\\league_slg.csv',\n",
       " 'data\\\\summary_by_year.csv']"
      ]
     },
     "execution_count": 111,
     "metadata": {},
     "output_type": "execute_result"
    }
   ],
   "source": [
    "glob.glob('data/*')"
   ]
  },
  {
   "cell_type": "code",
   "execution_count": 112,
   "id": "1b9eba0a-9915-4fc6-8928-fc21547e0e31",
   "metadata": {},
   "outputs": [
    {
     "data": {
      "text/html": [
       "<div><style>\n",
       ".dataframe > thead > tr,\n",
       ".dataframe > tbody > tr {\n",
       "  text-align: right;\n",
       "  white-space: pre-wrap;\n",
       "}\n",
       "</style>\n",
       "<small>shape: (10, 4)</small><table border=\"1\" class=\"dataframe\"><thead><tr><th>yearID</th><th>lgID</th><th>league_wide_ERA</th><th>DH_status</th></tr><tr><td>i64</td><td>str</td><td>f64</td><td>str</td></tr></thead><tbody><tr><td>2023</td><td>&quot;NL&quot;</td><td>4.383332</td><td>&quot;DH&quot;</td></tr><tr><td>1989</td><td>&quot;NL&quot;</td><td>3.502167</td><td>&quot;No DH&quot;</td></tr><tr><td>1995</td><td>&quot;AL&quot;</td><td>4.720294</td><td>&quot;DH&quot;</td></tr><tr><td>1964</td><td>&quot;AL&quot;</td><td>3.625248</td><td>&quot;No DH&quot;</td></tr><tr><td>1962</td><td>&quot;NL&quot;</td><td>3.940994</td><td>&quot;No DH&quot;</td></tr><tr><td>1961</td><td>&quot;NL&quot;</td><td>4.031227</td><td>&quot;No DH&quot;</td></tr><tr><td>2007</td><td>&quot;AL&quot;</td><td>4.51509</td><td>&quot;DH&quot;</td></tr><tr><td>1978</td><td>&quot;AL&quot;</td><td>3.778393</td><td>&quot;DH&quot;</td></tr><tr><td>1957</td><td>&quot;AL&quot;</td><td>3.787118</td><td>&quot;No DH&quot;</td></tr><tr><td>2017</td><td>&quot;NL&quot;</td><td>4.340542</td><td>&quot;No DH&quot;</td></tr></tbody></table></div>"
      ],
      "text/plain": [
       "shape: (10, 4)\n",
       "┌────────┬──────┬─────────────────┬───────────┐\n",
       "│ yearID ┆ lgID ┆ league_wide_ERA ┆ DH_status │\n",
       "│ ---    ┆ ---  ┆ ---             ┆ ---       │\n",
       "│ i64    ┆ str  ┆ f64             ┆ str       │\n",
       "╞════════╪══════╪═════════════════╪═══════════╡\n",
       "│ 2023   ┆ NL   ┆ 4.383332        ┆ DH        │\n",
       "│ 1989   ┆ NL   ┆ 3.502167        ┆ No DH     │\n",
       "│ 1995   ┆ AL   ┆ 4.720294        ┆ DH        │\n",
       "│ 1964   ┆ AL   ┆ 3.625248        ┆ No DH     │\n",
       "│ 1962   ┆ NL   ┆ 3.940994        ┆ No DH     │\n",
       "│ 1961   ┆ NL   ┆ 4.031227        ┆ No DH     │\n",
       "│ 2007   ┆ AL   ┆ 4.51509         ┆ DH        │\n",
       "│ 1978   ┆ AL   ┆ 3.778393        ┆ DH        │\n",
       "│ 1957   ┆ AL   ┆ 3.787118        ┆ No DH     │\n",
       "│ 2017   ┆ NL   ┆ 4.340542        ┆ No DH     │\n",
       "└────────┴──────┴─────────────────┴───────────┘"
      ]
     },
     "execution_count": 112,
     "metadata": {},
     "output_type": "execute_result"
    }
   ],
   "source": [
    "(data := pl.read_csv(\"./data/lahman_1871-2024_csv/Pitching.csv\",\n",
    "                           columns = ['playerID', 'yearID', 'ER', 'lgID', 'IPouts']\n",
    "                          )\n",
    ")\n",
    "league_era = (\n",
    "    data\n",
    "    .filter(pl.col('yearID') >= 1946)\n",
    "    .group_by('yearID', 'lgID')\n",
    "    .agg(\n",
    "        tot_er_allowed = pl.col('ER').sum(),\n",
    "        tot_innings_pitched = pl.col('IPouts').sum(),\n",
    "    )\n",
    "    .with_columns( league_wide_ERA = (pl.col('tot_er_allowed')/pl.col('tot_innings_pitched'))*27)\n",
    "    .with_columns( DH_status = pl.when(  ((pl.col('lgID') == 'AL') & (pl.col('yearID') >= 1973)) |\n",
    "                                         ((pl.col('lgID') == 'NL') & (pl.col('yearID') >= 2022))\n",
    "                                      )\n",
    "                   .then(pl.lit('DH'))\n",
    "                   .otherwise(pl.lit('No DH'))\n",
    "                 )\n",
    ")\n",
    "\n",
    "summary_by_year.select(\n",
    "    pl.col('yearID','lgID','league_wide_ERA','DH_status')).head(10)"
   ]
  },
  {
   "cell_type": "code",
   "execution_count": 113,
   "id": "3873c116-3e65-4eff-838a-368c357546d1",
   "metadata": {},
   "outputs": [],
   "source": [
    "league_era.write_csv('./data/league_era.csv')"
   ]
  },
  {
   "cell_type": "code",
   "execution_count": 114,
   "id": "764a3607-44b0-4d16-8797-e26a509d51a8",
   "metadata": {},
   "outputs": [
    {
     "data": {
      "text/html": [
       "<div><style>\n",
       ".dataframe > thead > tr,\n",
       ".dataframe > tbody > tr {\n",
       "  text-align: right;\n",
       "  white-space: pre-wrap;\n",
       "}\n",
       "</style>\n",
       "<small>shape: (5, 24)</small><table border=\"1\" class=\"dataframe\"><thead><tr><th>playerID</th><th>yearID</th><th>stint</th><th>teamID</th><th>lgID</th><th>G</th><th>G_batting</th><th>AB</th><th>R</th><th>H</th><th>2B</th><th>3B</th><th>HR</th><th>RBI</th><th>SB</th><th>CS</th><th>BB</th><th>SO</th><th>IBB</th><th>HBP</th><th>SH</th><th>SF</th><th>GIDP</th><th>G_old</th></tr><tr><td>str</td><td>i64</td><td>i64</td><td>str</td><td>str</td><td>i64</td><td>i64</td><td>i64</td><td>i64</td><td>i64</td><td>i64</td><td>i64</td><td>i64</td><td>i64</td><td>i64</td><td>i64</td><td>i64</td><td>i64</td><td>i64</td><td>i64</td><td>i64</td><td>i64</td><td>i64</td><td>i64</td></tr></thead><tbody><tr><td>&quot;aardsda01&quot;</td><td>2004</td><td>1</td><td>&quot;SFN&quot;</td><td>&quot;NL&quot;</td><td>11</td><td>null</td><td>0</td><td>0</td><td>0</td><td>0</td><td>0</td><td>0</td><td>0</td><td>0</td><td>0</td><td>0</td><td>0</td><td>0</td><td>0</td><td>0</td><td>0</td><td>0</td><td>null</td></tr><tr><td>&quot;aardsda01&quot;</td><td>2006</td><td>1</td><td>&quot;CHN&quot;</td><td>&quot;NL&quot;</td><td>45</td><td>null</td><td>2</td><td>0</td><td>0</td><td>0</td><td>0</td><td>0</td><td>0</td><td>0</td><td>0</td><td>0</td><td>0</td><td>0</td><td>0</td><td>1</td><td>0</td><td>0</td><td>null</td></tr><tr><td>&quot;aardsda01&quot;</td><td>2007</td><td>1</td><td>&quot;CHA&quot;</td><td>&quot;AL&quot;</td><td>25</td><td>null</td><td>0</td><td>0</td><td>0</td><td>0</td><td>0</td><td>0</td><td>0</td><td>0</td><td>0</td><td>0</td><td>0</td><td>0</td><td>0</td><td>0</td><td>0</td><td>0</td><td>null</td></tr><tr><td>&quot;aardsda01&quot;</td><td>2008</td><td>1</td><td>&quot;BOS&quot;</td><td>&quot;AL&quot;</td><td>47</td><td>null</td><td>1</td><td>0</td><td>0</td><td>0</td><td>0</td><td>0</td><td>0</td><td>0</td><td>0</td><td>0</td><td>1</td><td>0</td><td>0</td><td>0</td><td>0</td><td>0</td><td>null</td></tr><tr><td>&quot;aardsda01&quot;</td><td>2009</td><td>1</td><td>&quot;SEA&quot;</td><td>&quot;AL&quot;</td><td>73</td><td>null</td><td>0</td><td>0</td><td>0</td><td>0</td><td>0</td><td>0</td><td>0</td><td>0</td><td>0</td><td>0</td><td>0</td><td>0</td><td>0</td><td>0</td><td>0</td><td>0</td><td>null</td></tr></tbody></table></div>"
      ],
      "text/plain": [
       "shape: (5, 24)\n",
       "┌───────────┬────────┬───────┬────────┬───┬─────┬─────┬──────┬───────┐\n",
       "│ playerID  ┆ yearID ┆ stint ┆ teamID ┆ … ┆ SH  ┆ SF  ┆ GIDP ┆ G_old │\n",
       "│ ---       ┆ ---    ┆ ---   ┆ ---    ┆   ┆ --- ┆ --- ┆ ---  ┆ ---   │\n",
       "│ str       ┆ i64    ┆ i64   ┆ str    ┆   ┆ i64 ┆ i64 ┆ i64  ┆ i64   │\n",
       "╞═══════════╪════════╪═══════╪════════╪═══╪═════╪═════╪══════╪═══════╡\n",
       "│ aardsda01 ┆ 2004   ┆ 1     ┆ SFN    ┆ … ┆ 0   ┆ 0   ┆ 0    ┆ null  │\n",
       "│ aardsda01 ┆ 2006   ┆ 1     ┆ CHN    ┆ … ┆ 1   ┆ 0   ┆ 0    ┆ null  │\n",
       "│ aardsda01 ┆ 2007   ┆ 1     ┆ CHA    ┆ … ┆ 0   ┆ 0   ┆ 0    ┆ null  │\n",
       "│ aardsda01 ┆ 2008   ┆ 1     ┆ BOS    ┆ … ┆ 0   ┆ 0   ┆ 0    ┆ null  │\n",
       "│ aardsda01 ┆ 2009   ┆ 1     ┆ SEA    ┆ … ┆ 0   ┆ 0   ┆ 0    ┆ null  │\n",
       "└───────────┴────────┴───────┴────────┴───┴─────┴─────┴──────┴───────┘"
      ]
     },
     "execution_count": 114,
     "metadata": {},
     "output_type": "execute_result"
    }
   ],
   "source": [
    "(batting_data := pl.read_csv(\"./data/lahman_1871-2024_csv/Batting.csv\")).head()"
   ]
  },
  {
   "cell_type": "code",
   "execution_count": 115,
   "id": "830d9fe3-4b02-45a7-9954-dbd8986fff44",
   "metadata": {},
   "outputs": [
    {
     "data": {
      "text/html": [
       "<div><style>\n",
       ".dataframe > thead > tr,\n",
       ".dataframe > tbody > tr {\n",
       "  text-align: right;\n",
       "  white-space: pre-wrap;\n",
       "}\n",
       "</style>\n",
       "<small>shape: (10, 4)</small><table border=\"1\" class=\"dataframe\"><thead><tr><th>yearID</th><th>lgID</th><th>league_wide_SLG</th><th>DH_status</th></tr><tr><td>i64</td><td>str</td><td>f64</td><td>str</td></tr></thead><tbody><tr><td>2024</td><td>&quot;NL&quot;</td><td>0.403911</td><td>&quot;DH&quot;</td></tr><tr><td>2024</td><td>&quot;AL&quot;</td><td>0.394495</td><td>&quot;DH&quot;</td></tr><tr><td>2023</td><td>&quot;AL&quot;</td><td>0.411824</td><td>&quot;DH&quot;</td></tr><tr><td>2023</td><td>&quot;NL&quot;</td><td>0.416498</td><td>&quot;DH&quot;</td></tr><tr><td>2022</td><td>&quot;AL&quot;</td><td>0.391806</td><td>&quot;DH&quot;</td></tr><tr><td>2022</td><td>&quot;NL&quot;</td><td>0.397923</td><td>&quot;DH&quot;</td></tr><tr><td>2021</td><td>&quot;AL&quot;</td><td>0.414682</td><td>&quot;DH&quot;</td></tr><tr><td>2021</td><td>&quot;NL&quot;</td><td>0.406828</td><td>&quot;No DH&quot;</td></tr><tr><td>2020</td><td>&quot;AL&quot;</td><td>0.414228</td><td>&quot;DH&quot;</td></tr><tr><td>2020</td><td>&quot;NL&quot;</td><td>0.421171</td><td>&quot;No DH&quot;</td></tr></tbody></table></div>"
      ],
      "text/plain": [
       "shape: (10, 4)\n",
       "┌────────┬──────┬─────────────────┬───────────┐\n",
       "│ yearID ┆ lgID ┆ league_wide_SLG ┆ DH_status │\n",
       "│ ---    ┆ ---  ┆ ---             ┆ ---       │\n",
       "│ i64    ┆ str  ┆ f64             ┆ str       │\n",
       "╞════════╪══════╪═════════════════╪═══════════╡\n",
       "│ 2024   ┆ NL   ┆ 0.403911        ┆ DH        │\n",
       "│ 2024   ┆ AL   ┆ 0.394495        ┆ DH        │\n",
       "│ 2023   ┆ AL   ┆ 0.411824        ┆ DH        │\n",
       "│ 2023   ┆ NL   ┆ 0.416498        ┆ DH        │\n",
       "│ 2022   ┆ AL   ┆ 0.391806        ┆ DH        │\n",
       "│ 2022   ┆ NL   ┆ 0.397923        ┆ DH        │\n",
       "│ 2021   ┆ AL   ┆ 0.414682        ┆ DH        │\n",
       "│ 2021   ┆ NL   ┆ 0.406828        ┆ No DH     │\n",
       "│ 2020   ┆ AL   ┆ 0.414228        ┆ DH        │\n",
       "│ 2020   ┆ NL   ┆ 0.421171        ┆ No DH     │\n",
       "└────────┴──────┴─────────────────┴───────────┘"
      ]
     },
     "execution_count": 115,
     "metadata": {},
     "output_type": "execute_result"
    }
   ],
   "source": [
    "league_slg = (batting_data\n",
    "    .filter(pl.col(\"yearID\") >= 1946)\n",
    "    #Calculate Total Bases\n",
    "    .with_columns(\n",
    "        (pl.col(\"H\") - pl.col(\"2B\") - pl.col(\"3B\") - pl.col(\"HR\")).alias(\"1B\"),\n",
    "        (\n",
    "            (pl.col(\"H\") - pl.col(\"2B\") - pl.col(\"3B\") - pl.col(\"HR\"))*1 +\n",
    "            pl.col(\"2B\")*2 +\n",
    "            pl.col(\"3B\")*3 +\n",
    "            pl.col(\"HR\")*4\n",
    "        ).alias(\"TB\")\n",
    "    )\n",
    "    .group_by('yearID','lgID')\n",
    "    .agg(\n",
    "        tot_bases_league = pl.col('TB').sum(),\n",
    "        tot_at_bats_league = pl.col('AB').sum(),\n",
    "        )\n",
    "     .with_columns( league_wide_SLG = (pl.col('tot_bases_league')/pl.col('tot_at_bats_league')))\n",
    "     .with_columns( DH_status = pl.when(  ((pl.col('lgID') == 'AL') & (pl.col('yearID') >= 1973)) |\n",
    "                                         ((pl.col('lgID') == 'NL') & (pl.col('yearID') >= 2022))\n",
    "                                      )\n",
    "                   .then(pl.lit('DH'))\n",
    "                   .otherwise(pl.lit('No DH'))\n",
    "                 )\n",
    "     .sort('yearID', descending=True)\n",
    ")\n",
    "league_slg.select(pl.col('yearID','lgID','league_wide_SLG','DH_status')).head(10)\n",
    "\n"
   ]
  },
  {
   "cell_type": "code",
   "execution_count": 116,
   "id": "2167a0b4-fcee-4567-beaa-8bf76a1ab418",
   "metadata": {},
   "outputs": [],
   "source": [
    "league_slg.write_csv('./data/league_slg.csv')"
   ]
  },
  {
   "cell_type": "code",
   "execution_count": null,
   "id": "6e4b8faa-185b-4bea-9f90-69cd43e814c0",
   "metadata": {},
   "outputs": [],
   "source": []
  }
 ],
 "metadata": {
  "kernelspec": {
   "display_name": "Python 3 (ipykernel)",
   "language": "python",
   "name": "python3"
  },
  "language_info": {
   "codemirror_mode": {
    "name": "ipython",
    "version": 3
   },
   "file_extension": ".py",
   "mimetype": "text/x-python",
   "name": "python",
   "nbconvert_exporter": "python",
   "pygments_lexer": "ipython3",
   "version": "3.13.5"
  }
 },
 "nbformat": 4,
 "nbformat_minor": 5
}
